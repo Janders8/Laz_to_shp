{
 "cells": [
  {
   "cell_type": "code",
   "execution_count": 1,
   "metadata": {
    "scrolled": true
   },
   "outputs": [
    {
     "name": "stdout",
     "output_type": "stream",
     "text": [
      "C:\\Windows\\System32\n"
     ]
    }
   ],
   "source": [
    "import sys\n",
    "import laspy\n",
    "import requests\n",
    "import wget\n",
    "import os\n",
    "print(os.getcwd())\n",
    "arcpy.env.addOutputsToMap = False"
   ]
  },
  {
   "cell_type": "code",
   "execution_count": 2,
   "metadata": {},
   "outputs": [
    {
     "name": "stdout",
     "output_type": "stream",
     "text": [
      "['76632_1261787_M-34-5-D-b-2-3-2.laz', '76632_1261789_M-34-5-D-b-2-3-4.laz', '76632_1261790_M-34-5-D-b-2-4-1.laz', '76632_1261791_M-34-5-D-b-2-4-2.laz', '76632_1261792_M-34-5-D-b-2-4-3.laz', '76632_1261793_M-34-5-D-b-2-4-4.laz']\n"
     ]
    }
   ],
   "source": [
    "# sciezki\n",
    "# folder z pobranymi lidarami\n",
    "lidars_path = r\"C:\\Users\\janek\\Documents\\ArcGIS\\Projects\\widzenie_maszynowe_laz\\dane\"\n",
    "lidars_names = os.listdir(lidars_path)\n",
    "\n",
    "wyniki = r\"C:\\Users\\janek\\Documents\\ArcGIS\\Projects\\widzenie_maszynowe_laz\\wyniki\"\n",
    "\n",
    "print(lidars_names)"
   ]
  },
  {
   "cell_type": "code",
   "execution_count": 9,
   "metadata": {},
   "outputs": [
    {
     "data": {
      "text/plain": [
       "CompletedProcess(args=['C:\\\\Users\\\\janek\\\\Documents\\\\ArcGIS\\\\Projects\\\\widzenie_maszynowe_laz\\\\main.exe', 'https://opendata.geoportal.gov.pl/NumDaneWys/DanePomiaroweLAZ/76632/76632_1261787_M-34-5-D-b-2-3-2.laz'], returncode=0)"
      ]
     },
     "execution_count": 9,
     "metadata": {},
     "output_type": "execute_result"
    }
   ],
   "source": [
    "# pobieranie za pomoca pliku wykonywalnego, środowisko arcgis pro nie wspiera biblioteki wget\n",
    "\n",
    "#import subprocess\n",
    "#subprocess.run([r\"C:\\Users\\janek\\Documents\\ArcGIS\\Projects\\widzenie_maszynowe_laz\\laz_download.exe\", \"https://opendata.geoportal.gov.pl/NumDaneWys/DanePomiaroweLAZ/76632/76632_1261787_M-34-5-D-b-2-3-2.laz\"])"
   ]
  },
  {
   "cell_type": "code",
   "execution_count": 3,
   "metadata": {},
   "outputs": [],
   "source": [
    "def convert_laz_to_las(path, wyniki, i):\n",
    "    output = wyniki + \"\\\\\" + \"output_\" + str(i) + \".lasd\"\n",
    "    \n",
    "    #arcpy.conversion.ConvertLas(r\"C:\\Users\\janek\\Documents\\ArcGIS\\Projects\\widzenie_maszynowe_laz\\dane\\76632_1261787_M-34-5-D-b-2-3-2.laz\", r\"C:\\Users\\janek\\Documents\\ArcGIS\\Projects\\widzenie_maszynowe_laz\\wyniki\", \"SAME_AS_INPUT\", '', \"NO_COMPRESSION\", None, r\"C:\\Users\\janek\\Documents\\ArcGIS\\Projects\\widzenie_maszynowe_laz\\output.lasd\", \"NO_FILES\", None)\n",
    "    arcpy.conversion.ConvertLas(path, wyniki, \"SAME_AS_INPUT\", '', \"NO_COMPRESSION\", None, output , \"NO_FILES\", None)\n",
    "    "
   ]
  },
  {
   "cell_type": "code",
   "execution_count": 4,
   "metadata": {},
   "outputs": [
    {
     "name": "stdout",
     "output_type": "stream",
     "text": [
      "C:\\Users\\janek\\Documents\\ArcGIS\\Projects\\widzenie_maszynowe_laz\\dane\\76632_1261787_M-34-5-D-b-2-3-2.laz\n",
      "C:\\Users\\janek\\Documents\\ArcGIS\\Projects\\widzenie_maszynowe_laz\\dane\\76632_1261789_M-34-5-D-b-2-3-4.laz\n",
      "C:\\Users\\janek\\Documents\\ArcGIS\\Projects\\widzenie_maszynowe_laz\\dane\\76632_1261790_M-34-5-D-b-2-4-1.laz\n",
      "C:\\Users\\janek\\Documents\\ArcGIS\\Projects\\widzenie_maszynowe_laz\\dane\\76632_1261791_M-34-5-D-b-2-4-2.laz\n",
      "C:\\Users\\janek\\Documents\\ArcGIS\\Projects\\widzenie_maszynowe_laz\\dane\\76632_1261792_M-34-5-D-b-2-4-3.laz\n",
      "C:\\Users\\janek\\Documents\\ArcGIS\\Projects\\widzenie_maszynowe_laz\\dane\\76632_1261793_M-34-5-D-b-2-4-4.laz\n"
     ]
    }
   ],
   "source": [
    "\n",
    "for i,file in enumerate(lidars_names):\n",
    "    path = lidars_path + \"\\\\\" + file\n",
    "    print(path)\n",
    "    \n",
    "    convert_laz_to_las(path, wyniki, i)\n",
    "\n"
   ]
  },
  {
   "cell_type": "code",
   "execution_count": 5,
   "metadata": {},
   "outputs": [
    {
     "name": "stdout",
     "output_type": "stream",
     "text": [
      "C:\\Users\\janek\\Documents\\ArcGIS\\Projects\\widzenie_maszynowe_laz\\wyniki\\76632_1261787_M-34-5-D-b-2-3-2.las\n",
      "C:\\Users\\janek\\Documents\\ArcGIS\\Projects\\widzenie_maszynowe_laz\\wyniki\\76632_1261789_M-34-5-D-b-2-3-4.las\n",
      "C:\\Users\\janek\\Documents\\ArcGIS\\Projects\\widzenie_maszynowe_laz\\wyniki\\76632_1261790_M-34-5-D-b-2-4-1.las\n",
      "C:\\Users\\janek\\Documents\\ArcGIS\\Projects\\widzenie_maszynowe_laz\\wyniki\\76632_1261791_M-34-5-D-b-2-4-2.las\n",
      "C:\\Users\\janek\\Documents\\ArcGIS\\Projects\\widzenie_maszynowe_laz\\wyniki\\76632_1261792_M-34-5-D-b-2-4-3.las\n",
      "C:\\Users\\janek\\Documents\\ArcGIS\\Projects\\widzenie_maszynowe_laz\\wyniki\\76632_1261793_M-34-5-D-b-2-4-4.las\n"
     ]
    }
   ],
   "source": [
    "# wybranie tylko las'ow, bo sie tez tworza lasx\n",
    "\n",
    "list_of_las = []\n",
    "list_of_files = os.listdir(wyniki)\n",
    "for f in list_of_files:\n",
    "    if f[-3:] == \"las\":\n",
    "        list_of_las.append(wyniki +  \"\\\\\" + f)\n",
    "        print(wyniki +  \"\\\\\" + f)\n",
    "\n",
    "\n",
    "\n"
   ]
  },
  {
   "cell_type": "code",
   "execution_count": null,
   "metadata": {},
   "outputs": [],
   "source": []
  },
  {
   "cell_type": "code",
   "execution_count": 6,
   "metadata": {},
   "outputs": [
    {
     "name": "stdout",
     "output_type": "stream",
     "text": [
      "Buildings extraction\n",
      "C:\\Users\\janek\\Documents\\ArcGIS\\Projects\\widzenie_maszynowe_laz\\wyniki\\budynki_0.las\n",
      "Buildings extraction\n",
      "C:\\Users\\janek\\Documents\\ArcGIS\\Projects\\widzenie_maszynowe_laz\\wyniki\\budynki_1.las\n",
      "Buildings extraction\n",
      "C:\\Users\\janek\\Documents\\ArcGIS\\Projects\\widzenie_maszynowe_laz\\wyniki\\budynki_2.las\n",
      "Buildings extraction\n",
      "C:\\Users\\janek\\Documents\\ArcGIS\\Projects\\widzenie_maszynowe_laz\\wyniki\\budynki_3.las\n",
      "Buildings extraction\n",
      "C:\\Users\\janek\\Documents\\ArcGIS\\Projects\\widzenie_maszynowe_laz\\wyniki\\budynki_4.las\n",
      "Buildings extraction\n",
      "C:\\Users\\janek\\Documents\\ArcGIS\\Projects\\widzenie_maszynowe_laz\\wyniki\\budynki_5.las\n"
     ]
    }
   ],
   "source": [
    "# selekcja budynkow\n",
    "\n",
    "import laspy\n",
    "import numpy as np\n",
    "\n",
    "\n",
    "\n",
    "def point_extraction_based_on_the_class(las, clas):\n",
    "    if clas == 'buildings':\n",
    "        print('Buildings extraction')\n",
    "        buildings_only = np.where(las.raw_classification == 6)\n",
    "        buildings_points = las.points[buildings_only] \n",
    "\n",
    "        #print(type(buildings_points))\n",
    "        #print(buildings_points)\n",
    "\n",
    "        return buildings_points \n",
    "    elif clas == 'vegetation':\n",
    "        print('Vegetation extraction')\n",
    "        vegetation_low = np.where(las.raw_classification == 3)\n",
    "        vegetation_medium = np.where(las.raw_classification == 4)\n",
    "        vegetation_high = np.where(las.raw_classification == 5)\n",
    "        vegetation = np.concatenate((vegetation_low,vegetation_medium, vegetation_high))\n",
    "        vegetation = las.points([vegetation])\n",
    "        return vegetation\n",
    "    else:\n",
    "        print('Ground extraction')\n",
    "        ground_only = np.where(las.raw_classification == 2)\n",
    "        ground_points = las.points[ground_only]\n",
    "        return ground_points \n",
    "\n",
    "\n",
    "\n",
    "\n",
    "\n",
    "def save_points_after_processing(file, las, new_las):\n",
    "    las_pcd = laspy.file.File(file, header=las.header , mode = \"w\")\n",
    "    las_pcd.points = new_las #i.e. ground_points\n",
    "    las_pcd.close()\n",
    "    \n",
    "for i, file in enumerate(list_of_las):\n",
    "    las_pcd = laspy.file.File(file, header =None, mode = \"r\")\n",
    "    new_las = point_extraction_based_on_the_class(las_pcd, 'buildings')\n",
    "    \n",
    "    \n",
    "    save_path = wyniki + \"\\\\\" + \"budynki_\" + str(i)+ \".las\"\n",
    "    print(save_path)\n",
    "    save_points_after_processing(save_path , las_pcd, new_las)\n"
   ]
  },
  {
   "cell_type": "code",
   "execution_count": 7,
   "metadata": {
    "scrolled": true
   },
   "outputs": [
    {
     "name": "stdout",
     "output_type": "stream",
     "text": [
      "C:\\Users\\janek\\Documents\\ArcGIS\\Projects\\widzenie_maszynowe_laz\\wyniki\\76632_1261787_M-34-5-D-b-2-3-2.las\n",
      "C:\\Users\\janek\\Documents\\ArcGIS\\Projects\\widzenie_maszynowe_laz\\wyniki\\76632_1261787_M-34-5-D-b-2-3-2.lasx\n",
      "C:\\Users\\janek\\Documents\\ArcGIS\\Projects\\widzenie_maszynowe_laz\\wyniki\\76632_1261789_M-34-5-D-b-2-3-4.las\n",
      "C:\\Users\\janek\\Documents\\ArcGIS\\Projects\\widzenie_maszynowe_laz\\wyniki\\76632_1261789_M-34-5-D-b-2-3-4.lasx\n",
      "C:\\Users\\janek\\Documents\\ArcGIS\\Projects\\widzenie_maszynowe_laz\\wyniki\\76632_1261790_M-34-5-D-b-2-4-1.las\n",
      "C:\\Users\\janek\\Documents\\ArcGIS\\Projects\\widzenie_maszynowe_laz\\wyniki\\76632_1261790_M-34-5-D-b-2-4-1.lasx\n",
      "C:\\Users\\janek\\Documents\\ArcGIS\\Projects\\widzenie_maszynowe_laz\\wyniki\\76632_1261791_M-34-5-D-b-2-4-2.las\n",
      "C:\\Users\\janek\\Documents\\ArcGIS\\Projects\\widzenie_maszynowe_laz\\wyniki\\76632_1261791_M-34-5-D-b-2-4-2.lasx\n",
      "C:\\Users\\janek\\Documents\\ArcGIS\\Projects\\widzenie_maszynowe_laz\\wyniki\\76632_1261792_M-34-5-D-b-2-4-3.las\n",
      "C:\\Users\\janek\\Documents\\ArcGIS\\Projects\\widzenie_maszynowe_laz\\wyniki\\76632_1261792_M-34-5-D-b-2-4-3.lasx\n",
      "C:\\Users\\janek\\Documents\\ArcGIS\\Projects\\widzenie_maszynowe_laz\\wyniki\\76632_1261793_M-34-5-D-b-2-4-4.las\n",
      "C:\\Users\\janek\\Documents\\ArcGIS\\Projects\\widzenie_maszynowe_laz\\wyniki\\76632_1261793_M-34-5-D-b-2-4-4.lasx\n",
      "C:\\Users\\janek\\Documents\\ArcGIS\\Projects\\widzenie_maszynowe_laz\\wyniki\\output_0.lasd\n",
      "C:\\Users\\janek\\Documents\\ArcGIS\\Projects\\widzenie_maszynowe_laz\\wyniki\\output_1.lasd\n",
      "C:\\Users\\janek\\Documents\\ArcGIS\\Projects\\widzenie_maszynowe_laz\\wyniki\\output_2.lasd\n",
      "C:\\Users\\janek\\Documents\\ArcGIS\\Projects\\widzenie_maszynowe_laz\\wyniki\\output_3.lasd\n",
      "C:\\Users\\janek\\Documents\\ArcGIS\\Projects\\widzenie_maszynowe_laz\\wyniki\\output_4.lasd\n",
      "C:\\Users\\janek\\Documents\\ArcGIS\\Projects\\widzenie_maszynowe_laz\\wyniki\\output_5.lasd\n"
     ]
    }
   ],
   "source": [
    "# usuwanie las'ow i lasx'ow\n",
    "list_of_files = os.listdir(wyniki)\n",
    "for f in list_of_files:\n",
    "    if f[0:7] !=\"budynki\":\n",
    "        print(wyniki + \"\\\\\" +f)\n",
    "        \n",
    "        \n",
    "        # czasami lockuje pliki i ich nie chce usunac, arcgis pro...\n",
    "        try:\n",
    "            arcpy.management.Delete(wyniki + \"\\\\\" +f)\n",
    "        except:\n",
    "            pass\n",
    "        "
   ]
  },
  {
   "cell_type": "code",
   "execution_count": 8,
   "metadata": {},
   "outputs": [
    {
     "name": "stdout",
     "output_type": "stream",
     "text": [
      "C:\\Users\\janek\\Documents\\ArcGIS\\Projects\\widzenie_maszynowe_laz\\wyniki\\budynki_0.las\n",
      "C:\\Users\\janek\\Documents\\ArcGIS\\Projects\\widzenie_maszynowe_laz\\wyniki\\budynki_1.las\n",
      "C:\\Users\\janek\\Documents\\ArcGIS\\Projects\\widzenie_maszynowe_laz\\wyniki\\budynki_2.las\n",
      "C:\\Users\\janek\\Documents\\ArcGIS\\Projects\\widzenie_maszynowe_laz\\wyniki\\budynki_3.las\n",
      "C:\\Users\\janek\\Documents\\ArcGIS\\Projects\\widzenie_maszynowe_laz\\wyniki\\budynki_4.las\n",
      "C:\\Users\\janek\\Documents\\ArcGIS\\Projects\\widzenie_maszynowe_laz\\wyniki\\budynki_5.las\n"
     ]
    }
   ],
   "source": [
    "# selekcja budynkow\n",
    "\n",
    "list_of_buildings = []\n",
    "list_of_files = os.listdir(wyniki)\n",
    "for f in list_of_files:\n",
    "\n",
    "    if f[0:7] == \"budynki\":\n",
    "        print(wyniki + \"\\\\\" + f)\n",
    "        list_of_buildings.append(wyniki + \"\\\\\" + f)\n"
   ]
  },
  {
   "cell_type": "code",
   "execution_count": 9,
   "metadata": {
    "scrolled": true
   },
   "outputs": [
    {
     "name": "stdout",
     "output_type": "stream",
     "text": [
      "['C:\\\\Users\\\\janek\\\\Documents\\\\ArcGIS\\\\Projects\\\\widzenie_maszynowe_laz\\\\wyniki\\\\punkty_las_0', 'C:\\\\Users\\\\janek\\\\Documents\\\\ArcGIS\\\\Projects\\\\widzenie_maszynowe_laz\\\\wyniki\\\\punkty_las_1', 'C:\\\\Users\\\\janek\\\\Documents\\\\ArcGIS\\\\Projects\\\\widzenie_maszynowe_laz\\\\wyniki\\\\punkty_las_2', 'C:\\\\Users\\\\janek\\\\Documents\\\\ArcGIS\\\\Projects\\\\widzenie_maszynowe_laz\\\\wyniki\\\\punkty_las_3', 'C:\\\\Users\\\\janek\\\\Documents\\\\ArcGIS\\\\Projects\\\\widzenie_maszynowe_laz\\\\wyniki\\\\punkty_las_4', 'C:\\\\Users\\\\janek\\\\Documents\\\\ArcGIS\\\\Projects\\\\widzenie_maszynowe_laz\\\\wyniki\\\\punkty_las_5']\n"
     ]
    }
   ],
   "source": [
    "#budynki las na shp\n",
    "\n",
    "shps = []\n",
    "\n",
    "for i, b in enumerate(list_of_buildings):\n",
    "    shp = wyniki + \"\\\\\" + \"punkty_las_\" +str(i)\n",
    "    \n",
    "    shps.append(shp)\n",
    "    \n",
    "    arcpy.ddd.LASToMultipoint(\n",
    "    input=b,\n",
    "    out_feature_class=shp,\n",
    "    average_point_spacing=1,\n",
    "    class_code=[],\n",
    "    attribute=None,\n",
    "    input_coordinate_system='PROJCS[\"ETRS_1989_Poland_CS92\",GEOGCS[\"GCS_ETRS_1989\",DATUM[\"D_ETRS_1989\",SPHEROID[\"GRS_1980\",6378137.0,298.257222101]],PRIMEM[\"Greenwich\",0.0],UNIT[\"Degree\",0.0174532925199433]],PROJECTION[\"Transverse_Mercator\"],PARAMETER[\"False_Easting\",500000.0],PARAMETER[\"False_Northing\",-5300000.0],PARAMETER[\"Central_Meridian\",19.0],PARAMETER[\"Scale_Factor\",0.9993],PARAMETER[\"Latitude_Of_Origin\",0.0],UNIT[\"Meter\",1.0]]',\n",
    "    file_suffix=\"las\",\n",
    "    z_factor=1,\n",
    "    folder_recursion=\"NO_RECURSION\"\n",
    "                            )\n",
    "print(shps)\n",
    "\n"
   ]
  },
  {
   "cell_type": "code",
   "execution_count": null,
   "metadata": {},
   "outputs": [],
   "source": []
  },
  {
   "cell_type": "code",
   "execution_count": 10,
   "metadata": {},
   "outputs": [
    {
     "name": "stdout",
     "output_type": "stream",
     "text": [
      "76632_1261793_M-34-5-D-b-2-4-4.las\n",
      "budynki_0.las\n",
      "budynki_1.las\n",
      "budynki_2.las\n",
      "budynki_3.las\n",
      "budynki_4.las\n",
      "budynki_5.las\n"
     ]
    }
   ],
   "source": [
    "# usuwanie budynkow\n",
    "\n",
    "list_of_files = os.listdir(wyniki)\n",
    "for f in list_of_files:\n",
    "    if f[-3:] ==\"las\":\n",
    "        #print(wyniki + \"\\\\\" +f)\n",
    "        print(f)\n",
    "        \n",
    "        \n",
    "        \n",
    "        # czasami lockuje pliki i ich nie chce usunac, arcgis pro...\n",
    "        try:\n",
    "            arcpy.management.Delete(wyniki + \"\\\\\" +f)\n",
    "        except:\n",
    "            pass\n",
    "        \n",
    "\n",
    "\n"
   ]
  },
  {
   "cell_type": "code",
   "execution_count": 11,
   "metadata": {},
   "outputs": [],
   "source": [
    "# pkt na poligony\n",
    "\n",
    "for i, s in enumerate(shps):\n",
    "    arcpy.cartography.AggregatePoints(\n",
    "    in_features=s,\n",
    "    out_feature_class=wyniki + \"\\\\\" + \"punkty_las_AggregatePoints_\"+str(i),\n",
    "    aggregation_distance=\"4 Meters\"\n",
    "                    )\n",
    "    \n",
    "    \n",
    "\n"
   ]
  },
  {
   "cell_type": "code",
   "execution_count": 12,
   "metadata": {},
   "outputs": [],
   "source": [
    "# czysczenie punktow\n",
    "list_of_files = os.listdir(wyniki)\n",
    "for f in list_of_files:\n",
    "    if \"AggregatePoints\" not in f:\n",
    "        # czasami lockuje pliki i ich nie chce usunac, arcgis pro...\n",
    "        try:\n",
    "            arcpy.management.Delete(wyniki + \"\\\\\" +f)\n",
    "        except:\n",
    "            pass\n",
    "        \n"
   ]
  },
  {
   "cell_type": "code",
   "execution_count": null,
   "metadata": {},
   "outputs": [],
   "source": []
  },
  {
   "cell_type": "code",
   "execution_count": null,
   "metadata": {},
   "outputs": [],
   "source": []
  }
 ],
 "metadata": {
  "kernelspec": {
   "display_name": "ArcGISPro",
   "language": "Python",
   "name": "python3"
  },
  "language_info": {
   "file_extension": ".py",
   "name": "python",
   "version": "3"
  }
 },
 "nbformat": 4,
 "nbformat_minor": 2
}
